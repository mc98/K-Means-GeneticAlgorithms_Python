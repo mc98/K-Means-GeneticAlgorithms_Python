{
 "cells": [
  {
   "cell_type": "markdown",
   "metadata": {},
   "source": [
    "**PyGAD library Implementation**"
   ]
  },
  {
   "cell_type": "code",
   "execution_count": 1,
   "metadata": {},
   "outputs": [],
   "source": [
    "import pygad\n",
    "import matplotlib.pyplot as plt\n",
    "from generate_data_class import GenerateData\n",
    "import kmeans\n",
    "import numpy"
   ]
  },
  {
   "cell_type": "code",
   "execution_count": 2,
   "metadata": {},
   "outputs": [],
   "source": [
    "num_clusters = 3\n",
    "\n",
    "gy = GenerateData(num_clusters)\n",
    "data = gy.raw_data()"
   ]
  },
  {
   "cell_type": "code",
   "execution_count": 3,
   "metadata": {},
   "outputs": [],
   "source": [
    "def cluster_data(solution, solution_idx):\n",
    "    global num_clusters, data\n",
    "    feature_vector_length = data.shape[1]\n",
    "    cluster_centers = []\n",
    "    all_clusters_dists = []\n",
    "    clusters = []\n",
    "    clusters_sum_dist = []\n",
    "\n",
    "    for clust_idx in range(num_clusters):\n",
    "        cluster_centers.append(solution[feature_vector_length*clust_idx:feature_vector_length*(clust_idx+1)])\n",
    "        cluster_center_dists = kmeans.euclidean(data, cluster_centers[clust_idx])\n",
    "        all_clusters_dists.append(numpy.array(cluster_center_dists))\n",
    "\n",
    "    cluster_centers = numpy.array(cluster_centers)\n",
    "    all_clusters_dists = numpy.array(all_clusters_dists)\n",
    "\n",
    "    cluster_indices = numpy.argmin(all_clusters_dists, axis=0)\n",
    "    for clust_idx in range(num_clusters):\n",
    "        clusters.append(numpy.where(cluster_indices == clust_idx)[0])\n",
    "        if len(clusters[clust_idx]) == 0:\n",
    "            clusters_sum_dist.append(0)\n",
    "        else:\n",
    "            clusters_sum_dist.append(numpy.sum(all_clusters_dists[clust_idx, clusters[clust_idx]]))\n",
    "\n",
    "    clusters_sum_dist = numpy.array(clusters_sum_dist)\n",
    "\n",
    "    return cluster_centers, all_clusters_dists, clusters, clusters_sum_dist\n",
    "\n",
    "#fitness function\n",
    "'''\n",
    "fitness_func() is created and calls the cluster_data() function and \n",
    "calculates the sum of distances in all clusters\n",
    "'''\n",
    "def fitness_func(solution, solution_idx):\n",
    "    _, _, _, clusters_sum_dist = cluster_data(solution, solution_idx)\n",
    "    fitness = 1.0 / (numpy.sum(clusters_sum_dist) + 0.00000001)\n",
    "\n",
    "    return fitness"
   ]
  },
  {
   "cell_type": "code",
   "execution_count": 4,
   "metadata": {},
   "outputs": [
    {
     "name": "stdout",
     "output_type": "stream",
     "text": [
      "Best solution is [11.40478911 11.4102987   5.18189951  5.18948814 45.02452923 45.02428663]\n",
      "Fitness of the best solution is 5.096586155985779e-05\n",
      "Best solution found after 972 generations\n"
     ]
    }
   ],
   "source": [
    "num_genes = num_clusters * data.shape[1]\n",
    "ga_instance = pygad.GA(num_generations=1000,\n",
    "                       sol_per_pop=10,\n",
    "                       num_parents_mating=5,\n",
    "                       keep_parents=2,\n",
    "                       num_genes=num_genes,\n",
    "                       fitness_func=fitness_func,\n",
    "                       suppress_warnings=True)\n",
    "\n",
    "ga_instance.run()\n",
    "\n",
    "best_solution, best_solution_fitness, best_solution_idx = ga_instance.best_solution()\n",
    "print(\"Best solution is {bs}\".format(bs=best_solution))\n",
    "print(\"Fitness of the best solution is {bsf}\".format(bsf=best_solution_fitness))\n",
    "print(\"Best solution found after {gen} generations\".format(gen=ga_instance.best_solution_generation))"
   ]
  }
 ],
 "metadata": {
  "kernelspec": {
   "display_name": "Python 3.10.1 64-bit",
   "language": "python",
   "name": "python3"
  },
  "language_info": {
   "codemirror_mode": {
    "name": "ipython",
    "version": 3
   },
   "file_extension": ".py",
   "mimetype": "text/x-python",
   "name": "python",
   "nbconvert_exporter": "python",
   "pygments_lexer": "ipython3",
   "version": "3.10.1"
  },
  "orig_nbformat": 4,
  "vscode": {
   "interpreter": {
    "hash": "ff4605b7fc6945e63735c4f9a7148da6cf6da39f2d7f6fbbf9d3935e14505729"
   }
  }
 },
 "nbformat": 4,
 "nbformat_minor": 2
}
