{
 "cells": [
  {
   "cell_type": "code",
   "execution_count": null,
   "metadata": {},
   "outputs": [],
   "source": [
    "#Import Libraries\n",
    "from generate_data_class import GenerateData\n",
    "import genetic_algo_gs as gag\n",
    "import kmeans\n",
    "import numpy\n",
    "import itertools"
   ]
  },
  {
   "cell_type": "markdown",
   "metadata": {},
   "source": [
    "Step 1: Generate sample data"
   ]
  },
  {
   "cell_type": "code",
   "execution_count": null,
   "metadata": {},
   "outputs": [],
   "source": [
    "#Inputs\n",
    "kNo = 3\n",
    "GA_gen = 500\n",
    "#Generate Data\n",
    "gy = GenerateData(kNo)\n",
    "rawData = gy.raw_data()"
   ]
  },
  {
   "cell_type": "code",
   "execution_count": null,
   "metadata": {},
   "outputs": [],
   "source": [
    "def kmean_data(data):\n",
    "    l = []\n",
    "    for el in data:\n",
    "        l2 = []\n",
    "        l2.append(el[0][0])\n",
    "        l2.append(el[1][0])\n",
    "        l.append(numpy.array(l2))\n",
    "\n",
    "    return numpy.array(l)"
   ]
  },
  {
   "cell_type": "markdown",
   "metadata": {},
   "source": [
    "Step 2: Perform K-Means"
   ]
  },
  {
   "cell_type": "code",
   "execution_count": null,
   "metadata": {},
   "outputs": [],
   "source": [
    "model = kmeans.KMeans(kNo)\n",
    "data1 = kmean_data(rawData)\n",
    "model.fit(data1,False,True)\n",
    "ml = model.to__solution()\n",
    "print(f'Fitness value of K-Means output is: {gag.fitness_func(numpy.array([ml]))[0]:0.8f}')"
   ]
  },
  {
   "cell_type": "code",
   "execution_count": null,
   "metadata": {},
   "outputs": [],
   "source": [
    "ko = model.evolution\n",
    "lp = []\n",
    "kmean_fitness_list = []\n",
    "ti = []\n",
    "for el in ko: \n",
    "    yo = []   \n",
    "    for subel in el:\n",
    "        yo.append(subel[0])\n",
    "        yo.append(subel[1])\n",
    "    ti.append(numpy.array(yo))\n",
    "ti = numpy.array(ti)\n",
    "\n",
    "io = gag.fitness_func(ti)\n",
    "gag.display_plot(io.tolist())"
   ]
  },
  {
   "cell_type": "markdown",
   "metadata": {},
   "source": [
    "Step 3: Get best centroid list from K-Means and feed to GA"
   ]
  },
  {
   "cell_type": "code",
   "execution_count": null,
   "metadata": {},
   "outputs": [],
   "source": [
    "data_for_GA = []\n",
    "for ty in model.evolution[-1]:\n",
    "    data_for_GA.append(ty[0])\n",
    "    data_for_GA.append(ty[1])\n",
    "print(data_for_GA)"
   ]
  },
  {
   "cell_type": "markdown",
   "metadata": {},
   "source": [
    "Step 4: Calculate fitness of kmeans solution and run GA Algorithm"
   ]
  },
  {
   "cell_type": "code",
   "execution_count": null,
   "metadata": {},
   "outputs": [],
   "source": [
    "initial_centroids = gag.init_cluster_center(kNo,data_for_GA)\n",
    "fit_func = gag.fitness_func(initial_centroids)"
   ]
  },
  {
   "cell_type": "code",
   "execution_count": null,
   "metadata": {},
   "outputs": [],
   "source": [
    "_, plot_result, _, _,centroidList = gag.GeneticAlgorithm(gag.fitness_func,kNo,GA_gen,dataCen=data_for_GA)"
   ]
  },
  {
   "cell_type": "code",
   "execution_count": null,
   "metadata": {},
   "outputs": [],
   "source": [
    "gag.display_plot(plot_result)"
   ]
  },
  {
   "cell_type": "code",
   "execution_count": null,
   "metadata": {},
   "outputs": [],
   "source": [
    "max(plot_result)"
   ]
  },
  {
   "cell_type": "code",
   "execution_count": null,
   "metadata": {},
   "outputs": [],
   "source": [
    "alphas = itertools.cycle(list(numpy.arange(0.1,1,1/GA_gen)))\n",
    "for e in centroidList:\n",
    "    kmeans.plot_resV3(data1,e,alpha = next(alphas),marker=\"x\",nb_clusters=kNo)"
   ]
  }
 ],
 "metadata": {
  "kernelspec": {
   "display_name": "Python 3.10.1 64-bit",
   "language": "python",
   "name": "python3"
  },
  "language_info": {
   "codemirror_mode": {
    "name": "ipython",
    "version": 3
   },
   "file_extension": ".py",
   "mimetype": "text/x-python",
   "name": "python",
   "nbconvert_exporter": "python",
   "pygments_lexer": "ipython3",
   "version": "3.10.1"
  },
  "orig_nbformat": 4,
  "vscode": {
   "interpreter": {
    "hash": "ff4605b7fc6945e63735c4f9a7148da6cf6da39f2d7f6fbbf9d3935e14505729"
   }
  }
 },
 "nbformat": 4,
 "nbformat_minor": 2
}
